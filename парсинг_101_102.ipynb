{
 "cells": [
  {
   "cell_type": "markdown",
   "id": "0caaf7b3",
   "metadata": {},
   "source": [
    "Данная программа просто перейдет по ссылкам, где архив скачается автоматически (будьте аккруратны при запуске)"
   ]
  },
  {
   "cell_type": "code",
   "execution_count": 13,
   "id": "bc6e1906",
   "metadata": {},
   "outputs": [],
   "source": [
    "import gc\n",
    "import os\n",
    "import functools\n",
    "import tqdm\n",
    "import shutil\n",
    "import requests\n",
    "import pandas as pd\n",
    "import numpy as np\n",
    "\n",
    "from pyunpack import Archive\n",
    "from bs4 import BeautifulSoup\n",
    "from pathlib import Path\n",
    "from multiprocessing import Pool\n",
    "from dbfread import DBF\n",
    "from typing import Union\n",
    "\n",
    "import re\n",
    "import time"
   ]
  },
  {
   "cell_type": "code",
   "execution_count": 203,
   "id": "75f3bf65",
   "metadata": {},
   "outputs": [],
   "source": [
    "def load_bank_statements(form_number:int, \n",
    "                         filepath: str,\n",
    "                         overwrite:bool=True) -> None:\n",
    "    '''\n",
    "    Loads archives with bank statements from CBR website and unpacks them into given folder\n",
    "    \n",
    "    Parameters\n",
    "    ----------\n",
    "    form_number: int, 101 or 102\n",
    "            Number of CBR form of financial statements (form 101, form 102)\n",
    "    filepath: str\n",
    "            Directory (folder) to save .zip and .rar archives  downloaded from CBR site\n",
    "            as well as unpacked .dbf files from archives\n",
    "    overwrite: bool\n",
    "            Whether to overwrite directories with archives and unzipped data if they already\n",
    "            exist (option overwrite=False is currently not available)\n",
    "    '''\n",
    "\n",
    "    print('Downloading and unpacking files from www.cbr.ru, please be patient...')\n",
    "    \n",
    "    url = 'https://www.cbr.ru/banking_sector/otchetnost-kreditnykh-organizaciy/'\n",
    "    \n",
    "\n",
    "    resp = requests.get(url)\n",
    "    soup = BeautifulSoup(resp.text, 'html')\n",
    "\n",
    "    # выберем все ссылки для нужной формы отчётности\n",
    "    all_refs = [x['href'] for x in soup.find_all('a', href=True)]\n",
    "    refs = ['https://cbr.ru/' + x for x in all_refs \\\n",
    "            if 'forms/' + str(form_number) in x]\n",
    "    \n",
    "    # сгенерируем кортежи аргументов для параллельной функции\n",
    "    args = ((x, \n",
    "             (\n",
    "             (x.split('/')[-1]).split('.')[0]\n",
    "             ).split('-')[1], \n",
    "             load_path, \n",
    "             save_path,\n",
    "             True) for x in refs)\n",
    "    \n",
    "    # параллельные действия\n",
    "    #if __name__=='__main__':\n",
    "       # with Pool() as pool:\n",
    "         #   pool.starmap(load_and_unpack, \n",
    "                     # to show progress bar\n",
    "           # tqdm.tqdm(args, total=len(refs)))        \n",
    "            \n",
    "    # на всякий случай сохранил альтернативный вариант с циклом\n",
    "    # он работает в 4 раза медленнее, чем распараллеленный вариант\n",
    "\n",
    "    for ref in refs:\n",
    "        webbrowser.open(ref, new=0, autoraise=True)\n",
    "        time.sleep(5)\n",
    "        "
   ]
  },
  {
   "cell_type": "code",
   "execution_count": 205,
   "id": "5cd42baf",
   "metadata": {},
   "outputs": [
    {
     "name": "stdout",
     "output_type": "stream",
     "text": [
      "Downloading and unpacking files from www.cbr.ru, please be patient...\n"
     ]
    }
   ],
   "source": [
    "load_bank_statements(102, \n",
    "                         '/Users/roman142001/Downloads') "
   ]
  }
 ],
 "metadata": {
  "kernelspec": {
   "display_name": "Python 3",
   "language": "python",
   "name": "python3"
  },
  "language_info": {
   "codemirror_mode": {
    "name": "ipython",
    "version": 3
   },
   "file_extension": ".py",
   "mimetype": "text/x-python",
   "name": "python",
   "nbconvert_exporter": "python",
   "pygments_lexer": "ipython3",
   "version": "3.8.8"
  }
 },
 "nbformat": 4,
 "nbformat_minor": 5
}
